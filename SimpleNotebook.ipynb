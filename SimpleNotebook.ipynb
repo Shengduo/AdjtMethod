{
 "cells": [
  {
   "cell_type": "markdown",
   "metadata": {},
   "source": [
    "# Import Libraries"
   ]
  },
  {
   "cell_type": "code",
   "execution_count": 1,
   "metadata": {},
   "outputs": [
    {
     "name": "stderr",
     "output_type": "stream",
     "text": [
      "/home/shengduo/anaconda3/lib/python3.9/site-packages/scipy/__init__.py:146: UserWarning: A NumPy version >=1.16.5 and <1.23.0 is required for this version of SciPy (detected version 1.24.1\n",
      "  warnings.warn(f\"A NumPy version >={np_minversion} and <{np_maxversion}\"\n"
     ]
    }
   ],
   "source": [
    "## Import standard librarys\n",
    "import torch\n",
    "import torchdiffeq\n",
    "import pickle\n",
    "import time\n",
    "import torch.nn as nn\n",
    "import scipy.optimize as opt\n",
    "import numpy as np\n",
    "\n",
    "from torchdiffeq import odeint\n",
    "from xitorch.interpolate import Interp1D\n",
    "from scipy.interpolate import interp1d\n",
    "from matplotlib import pyplot as plt\n",
    "\n",
    "\n",
    "## Import local classes and functions\n",
    "from MassFricParams import MassFricParams\n",
    "from TimeSequenceGen import TimeSequenceGen\n",
    "from AdjointMethod import AdjDerivs\n",
    "from GradientDescent import GradDescent, objGradFunc\n",
    "\n",
    "torch.set_default_dtype(torch.float)"
   ]
  },
  {
   "cell_type": "markdown",
   "metadata": {},
   "source": [
    "# Gradient descent on fixed $\\alpha = [k, m, g]$ and $V$ "
   ]
  },
  {
   "cell_type": "code",
   "execution_count": 6,
   "metadata": {},
   "outputs": [],
   "source": [
    "# Set up the parameters\n",
    "alpha0 = torch.tensor([50., 1., 9.8])\n",
    "VT = torch.tensor([[1., 1.], [0., 5.]])\n",
    "\n",
    "# Alpha range\n",
    "alp_low = torch.tensor([50., 0.5, 1., 9.])\n",
    "alp_hi = torch.tensor([100., 2., 10., 10.])\n",
    "y0 = torch.tensor([0., 1.0, 1.0])\n",
    "\n",
    "# Start beta\n",
    "beta0 = torch.tensor([0.008, 0.012, 2.e0, 0.5])\n",
    "\n",
    "# Target beta\n",
    "beta_targ = torch.tensor([0.011, 0.016, 1.e0, 0.58])\n",
    "\n",
    "# Beta ranges\n",
    "beta_low = torch.tensor([0.001, 0.006, 0.5e-3, 0.3])\n",
    "beta_high = torch.tensor([0.021, 0.026, 5, 0.8])\n",
    "scaling = torch.tensor([1., 1., 1., 1.])\n",
    "\n",
    "# Other arguments for optAlpha function\n",
    "max_iters = 10\n",
    "maxFuncCalls = 200\n",
    "regularizedFlag = False\n",
    "noLocalSearch = True\n",
    "\n",
    "# Sequence specific parameters\n",
    "T = 5.\n",
    "NofTPts = 1000\n",
    "\n",
    "# Tolerance parameters\n",
    "this_rtol = 1.e-6\n",
    "this_atol = 1.e-8\n",
    "\n",
    "# Store the keywords for optAlpha\n",
    "kwgs = {\n",
    "    'y0' : y0, \n",
    "    'alpha0' : alpha0, \n",
    "    'VT' : VT,\n",
    "    'alp_low' : alp_low, \n",
    "    'alp_high' : alp_hi, \n",
    "    'max_iters' : max_iters, \n",
    "    'beta_this' : beta0, \n",
    "    'beta_targ' : beta_targ, \n",
    "    'beta_low' : beta_low, \n",
    "    'beta_high' : beta_high, \n",
    "    'regularizedFlag' : regularizedFlag, \n",
    "    'maxFuncCalls' : maxFuncCalls, \n",
    "    'noLocalSearch' : noLocalSearch, \n",
    "    'T' : T, \n",
    "    'NofTPts' : NofTPts, \n",
    "    'this_rtol': this_rtol, \n",
    "    'this_atol' : this_atol\n",
    "}\n",
    "\n",
    "# Function to get target v\n",
    "def generate_target_v(alpha, VT, beta, y0, this_rtol, this_atol, regularizedFlag):\n",
    "    # y0[1] = alpha[2]\n",
    "    targ_SpringSlider = MassFricParams(alpha, VT, beta, y0)\n",
    "    targ_SpringSlider.print_info()\n",
    "    targ_seq = TimeSequenceGen(T, NofTPts, targ_SpringSlider, \n",
    "                               rtol=this_rtol, atol=this_atol, regularizedFlag=regularizedFlag)\n",
    "    v = targ_seq.default_y[1, :], \n",
    "    t = targ_seq.t\n",
    "    return v[0], t"
   ]
  },
  {
   "cell_type": "code",
   "execution_count": 7,
   "metadata": {},
   "outputs": [
    {
     "name": "stdout",
     "output_type": "stream",
     "text": [
      "########################################  Total Iteration 0 ########################################\n",
      "--------------------  Mass and spring parameters  --------------------\n",
      "k:         tensor(50.)\n",
      "m:         tensor(1.)\n",
      "g:         tensor(9.8000)\n",
      "\n",
      "\n",
      "--------------------  Rate-and-state parameters  --------------------\n",
      "fr:        tensor(0.5800)\n",
      "a:         tensor(0.0110)\n",
      "b:         tensor(0.0160)\n",
      "DRS:       tensor(0.0010)\n",
      "y0:        tensor([0., 1., 1.])\n"
     ]
    },
    {
     "data": {
      "image/png": "[encoded data removed]",
      "text/plain": [
       "<Figure size 432x288 with 1 Axes>"
      ]
     },
     "metadata": {
      "needs_background": "light"
     },
     "output_type": "display_data"
    },
    {
     "ename": "AssertionError",
     "evalue": "underflow in dt nan",
     "output_type": "error",
     "traceback": [
      "\u001b[0;31m---------------------------------------------------------------------------\u001b[0m",
      "\u001b[0;31mAssertionError\u001b[0m                            Traceback (most recent call last)",
      "\u001b[1;32m/home/shengduo/InverseProblems/AdjtMethod/SimpleNotebook.ipynb Cell 5'\u001b[0m in \u001b[0;36m<cell line: 7>\u001b[0;34m()\u001b[0m\n\u001b[1;32m     <a href='vscode-notebook-cell:/home/shengduo/InverseProblems/AdjtMethod/SimpleNotebook.ipynb#ch0000005?line=12'>13</a>\u001b[0m kwgs[\u001b[39m'\u001b[39m\u001b[39mbeta_this\u001b[39m\u001b[39m'\u001b[39m] \u001b[39m=\u001b[39m this_beta\n\u001b[1;32m     <a href='vscode-notebook-cell:/home/shengduo/InverseProblems/AdjtMethod/SimpleNotebook.ipynb#ch0000005?line=14'>15</a>\u001b[0m \u001b[39m# Timing alpha\u001b[39;00m\n\u001b[1;32m     <a href='vscode-notebook-cell:/home/shengduo/InverseProblems/AdjtMethod/SimpleNotebook.ipynb#ch0000005?line=15'>16</a>\u001b[0m \u001b[39m# Update this Alpha\u001b[39;00m\n\u001b[1;32m     <a href='vscode-notebook-cell:/home/shengduo/InverseProblems/AdjtMethod/SimpleNotebook.ipynb#ch0000005?line=16'>17</a>\u001b[0m \u001b[39m# this_alpha = optAlpha(O_GAN, kwgs)\u001b[39;00m\n\u001b[0;32m   (...)\u001b[0m\n\u001b[1;32m     <a href='vscode-notebook-cell:/home/shengduo/InverseProblems/AdjtMethod/SimpleNotebook.ipynb#ch0000005?line=19'>20</a>\u001b[0m \u001b[39m## Run grad descent on beta\u001b[39;00m\n\u001b[1;32m     <a href='vscode-notebook-cell:/home/shengduo/InverseProblems/AdjtMethod/SimpleNotebook.ipynb#ch0000005?line=20'>21</a>\u001b[0m \u001b[39m# Generate target v\u001b[39;00m\n\u001b[0;32m---> <a href='vscode-notebook-cell:/home/shengduo/InverseProblems/AdjtMethod/SimpleNotebook.ipynb#ch0000005?line=21'>22</a>\u001b[0m v, t \u001b[39m=\u001b[39m generate_target_v(this_alpha, kwgs[\u001b[39m'\u001b[39;49m\u001b[39mVT\u001b[39;49m\u001b[39m'\u001b[39;49m], kwgs[\u001b[39m'\u001b[39;49m\u001b[39mbeta_targ\u001b[39;49m\u001b[39m'\u001b[39;49m], kwgs[\u001b[39m'\u001b[39;49m\u001b[39my0\u001b[39;49m\u001b[39m'\u001b[39;49m], kwgs[\u001b[39m'\u001b[39;49m\u001b[39mthis_rtol\u001b[39;49m\u001b[39m'\u001b[39;49m], kwgs[\u001b[39m'\u001b[39;49m\u001b[39mthis_atol\u001b[39;49m\u001b[39m'\u001b[39;49m], kwgs[\u001b[39m'\u001b[39;49m\u001b[39mregularizedFlag\u001b[39;49m\u001b[39m'\u001b[39;49m])\n\u001b[1;32m     <a href='vscode-notebook-cell:/home/shengduo/InverseProblems/AdjtMethod/SimpleNotebook.ipynb#ch0000005?line=23'>24</a>\u001b[0m \u001b[39m# Run gradient descent\u001b[39;00m\n\u001b[1;32m     <a href='vscode-notebook-cell:/home/shengduo/InverseProblems/AdjtMethod/SimpleNotebook.ipynb#ch0000005?line=24'>25</a>\u001b[0m myGradBB \u001b[39m=\u001b[39m GradDescent(this_alpha, kwgs[\u001b[39m'\u001b[39m\u001b[39malp_low\u001b[39m\u001b[39m'\u001b[39m], kwgs[\u001b[39m'\u001b[39m\u001b[39malp_high\u001b[39m\u001b[39m'\u001b[39m], kwgs[\u001b[39m'\u001b[39m\u001b[39mVT\u001b[39m\u001b[39m'\u001b[39m], \n\u001b[1;32m     <a href='vscode-notebook-cell:/home/shengduo/InverseProblems/AdjtMethod/SimpleNotebook.ipynb#ch0000005?line=25'>26</a>\u001b[0m                        this_beta, kwgs[\u001b[39m'\u001b[39m\u001b[39mbeta_low\u001b[39m\u001b[39m'\u001b[39m], kwgs[\u001b[39m'\u001b[39m\u001b[39mbeta_high\u001b[39m\u001b[39m'\u001b[39m], \n\u001b[1;32m     <a href='vscode-notebook-cell:/home/shengduo/InverseProblems/AdjtMethod/SimpleNotebook.ipynb#ch0000005?line=26'>27</a>\u001b[0m                        kwgs[\u001b[39m'\u001b[39m\u001b[39my0\u001b[39m\u001b[39m'\u001b[39m], v, t, \n\u001b[0;32m   (...)\u001b[0m\n\u001b[1;32m     <a href='vscode-notebook-cell:/home/shengduo/InverseProblems/AdjtMethod/SimpleNotebook.ipynb#ch0000005?line=29'>30</a>\u001b[0m                        regularizedFlag \u001b[39m=\u001b[39m kwgs[\u001b[39m'\u001b[39m\u001b[39mregularizedFlag\u001b[39m\u001b[39m'\u001b[39m], \n\u001b[1;32m     <a href='vscode-notebook-cell:/home/shengduo/InverseProblems/AdjtMethod/SimpleNotebook.ipynb#ch0000005?line=30'>31</a>\u001b[0m                        T \u001b[39m=\u001b[39m kwgs[\u001b[39m'\u001b[39m\u001b[39mT\u001b[39m\u001b[39m'\u001b[39m], NofTPts \u001b[39m=\u001b[39m kwgs[\u001b[39m'\u001b[39m\u001b[39mNofTPts\u001b[39m\u001b[39m'\u001b[39m], this_rtol \u001b[39m=\u001b[39m kwgs[\u001b[39m'\u001b[39m\u001b[39mthis_rtol\u001b[39m\u001b[39m'\u001b[39m], this_atol \u001b[39m=\u001b[39m kwgs[\u001b[39m'\u001b[39m\u001b[39mthis_atol\u001b[39m\u001b[39m'\u001b[39m])\n",
      "\u001b[1;32m/home/shengduo/InverseProblems/AdjtMethod/SimpleNotebook.ipynb Cell 4'\u001b[0m in \u001b[0;36mgenerate_target_v\u001b[0;34m(alpha, VT, beta, y0, this_rtol, this_atol, regularizedFlag)\u001b[0m\n\u001b[1;32m     <a href='vscode-notebook-cell:/home/shengduo/InverseProblems/AdjtMethod/SimpleNotebook.ipynb#ch0000003?line=58'>59</a>\u001b[0m targ_SpringSlider \u001b[39m=\u001b[39m MassFricParams(alpha, VT, beta, y0)\n\u001b[1;32m     <a href='vscode-notebook-cell:/home/shengduo/InverseProblems/AdjtMethod/SimpleNotebook.ipynb#ch0000003?line=59'>60</a>\u001b[0m targ_SpringSlider\u001b[39m.\u001b[39mprint_info()\n\u001b[0;32m---> <a href='vscode-notebook-cell:/home/shengduo/InverseProblems/AdjtMethod/SimpleNotebook.ipynb#ch0000003?line=60'>61</a>\u001b[0m targ_seq \u001b[39m=\u001b[39m TimeSequenceGen(T, NofTPts, targ_SpringSlider, \n\u001b[1;32m     <a href='vscode-notebook-cell:/home/shengduo/InverseProblems/AdjtMethod/SimpleNotebook.ipynb#ch0000003?line=61'>62</a>\u001b[0m                            rtol\u001b[39m=\u001b[39;49mthis_rtol, atol\u001b[39m=\u001b[39;49mthis_atol, regularizedFlag\u001b[39m=\u001b[39;49mregularizedFlag)\n\u001b[1;32m     <a href='vscode-notebook-cell:/home/shengduo/InverseProblems/AdjtMethod/SimpleNotebook.ipynb#ch0000003?line=62'>63</a>\u001b[0m v \u001b[39m=\u001b[39m targ_seq\u001b[39m.\u001b[39mdefault_y[\u001b[39m1\u001b[39m, :], \n\u001b[1;32m     <a href='vscode-notebook-cell:/home/shengduo/InverseProblems/AdjtMethod/SimpleNotebook.ipynb#ch0000003?line=63'>64</a>\u001b[0m t \u001b[39m=\u001b[39m targ_seq\u001b[39m.\u001b[39mt\n",
      "File \u001b[0;32m~/InverseProblems/AdjtMethod/TimeSequenceGen.py:41\u001b[0m, in \u001b[0;36mTimeSequenceGen.__init__\u001b[0;34m(self, T, NofTPts, MFParams, rtol, atol, regularizedFlag)\u001b[0m\n\u001b[1;32m     <a href='file:///home/shengduo/InverseProblems/AdjtMethod/TimeSequenceGen.py?line=38'>39</a>\u001b[0m \u001b[39m# Generate the sequence\u001b[39;00m\n\u001b[1;32m     <a href='file:///home/shengduo/InverseProblems/AdjtMethod/TimeSequenceGen.py?line=39'>40</a>\u001b[0m st \u001b[39m=\u001b[39m time\u001b[39m.\u001b[39mtime()\n\u001b[0;32m---> <a href='file:///home/shengduo/InverseProblems/AdjtMethod/TimeSequenceGen.py?line=40'>41</a>\u001b[0m \u001b[39mself\u001b[39m\u001b[39m.\u001b[39mdefault_y \u001b[39m=\u001b[39m \u001b[39mself\u001b[39;49m\u001b[39m.\u001b[39;49mcalculateYAtT(\u001b[39mself\u001b[39;49m\u001b[39m.\u001b[39;49mt)\n\u001b[1;32m     <a href='file:///home/shengduo/InverseProblems/AdjtMethod/TimeSequenceGen.py?line=41'>42</a>\u001b[0m \u001b[39mself\u001b[39m\u001b[39m.\u001b[39mtime_cost \u001b[39m=\u001b[39m time\u001b[39m.\u001b[39mtime() \u001b[39m-\u001b[39m st\n",
      "File \u001b[0;32m~/InverseProblems/AdjtMethod/TimeSequenceGen.py:85\u001b[0m, in \u001b[0;36mTimeSequenceGen.calculateYAtT\u001b[0;34m(self, t)\u001b[0m\n\u001b[1;32m     <a href='file:///home/shengduo/InverseProblems/AdjtMethod/TimeSequenceGen.py?line=83'>84</a>\u001b[0m \u001b[39mdef\u001b[39;00m \u001b[39mcalculateYAtT\u001b[39m(\u001b[39mself\u001b[39m, t):\n\u001b[0;32m---> <a href='file:///home/shengduo/InverseProblems/AdjtMethod/TimeSequenceGen.py?line=84'>85</a>\u001b[0m     y \u001b[39m=\u001b[39m odeint(\u001b[39mself\u001b[39;49m\u001b[39m.\u001b[39;49mDyDt, \u001b[39mself\u001b[39;49m\u001b[39m.\u001b[39;49mMFParams\u001b[39m.\u001b[39;49my0, t, \n\u001b[1;32m     <a href='file:///home/shengduo/InverseProblems/AdjtMethod/TimeSequenceGen.py?line=85'>86</a>\u001b[0m                rtol \u001b[39m=\u001b[39;49m \u001b[39mself\u001b[39;49m\u001b[39m.\u001b[39;49mrtol, atol \u001b[39m=\u001b[39;49m \u001b[39mself\u001b[39;49m\u001b[39m.\u001b[39;49matol, method \u001b[39m=\u001b[39;49m \u001b[39m'\u001b[39;49m\u001b[39mdopri5\u001b[39;49m\u001b[39m'\u001b[39;49m)\n\u001b[1;32m     <a href='file:///home/shengduo/InverseProblems/AdjtMethod/TimeSequenceGen.py?line=86'>87</a>\u001b[0m     \u001b[39mreturn\u001b[39;00m torch\u001b[39m.\u001b[39mtranspose(y, \u001b[39m0\u001b[39m, \u001b[39m1\u001b[39m)\n",
      "File \u001b[0;32m~/anaconda3/lib/python3.9/site-packages/torchdiffeq/_impl/odeint.py:77\u001b[0m, in \u001b[0;36modeint\u001b[0;34m(func, y0, t, rtol, atol, method, options, event_fn)\u001b[0m\n\u001b[1;32m     <a href='file:///home/shengduo/anaconda3/lib/python3.9/site-packages/torchdiffeq/_impl/odeint.py?line=73'>74</a>\u001b[0m solver \u001b[39m=\u001b[39m SOLVERS[method](func\u001b[39m=\u001b[39mfunc, y0\u001b[39m=\u001b[39my0, rtol\u001b[39m=\u001b[39mrtol, atol\u001b[39m=\u001b[39matol, \u001b[39m*\u001b[39m\u001b[39m*\u001b[39moptions)\n\u001b[1;32m     <a href='file:///home/shengduo/anaconda3/lib/python3.9/site-packages/torchdiffeq/_impl/odeint.py?line=75'>76</a>\u001b[0m \u001b[39mif\u001b[39;00m event_fn \u001b[39mis\u001b[39;00m \u001b[39mNone\u001b[39;00m:\n\u001b[0;32m---> <a href='file:///home/shengduo/anaconda3/lib/python3.9/site-packages/torchdiffeq/_impl/odeint.py?line=76'>77</a>\u001b[0m     solution \u001b[39m=\u001b[39m solver\u001b[39m.\u001b[39;49mintegrate(t)\n\u001b[1;32m     <a href='file:///home/shengduo/anaconda3/lib/python3.9/site-packages/torchdiffeq/_impl/odeint.py?line=77'>78</a>\u001b[0m \u001b[39melse\u001b[39;00m:\n\u001b[1;32m     <a href='file:///home/shengduo/anaconda3/lib/python3.9/site-packages/torchdiffeq/_impl/odeint.py?line=78'>79</a>\u001b[0m     event_t, solution \u001b[39m=\u001b[39m solver\u001b[39m.\u001b[39mintegrate_until_event(t[\u001b[39m0\u001b[39m], event_fn)\n",
      "File \u001b[0;32m~/anaconda3/lib/python3.9/site-packages/torchdiffeq/_impl/solvers.py:30\u001b[0m, in \u001b[0;36mAdaptiveStepsizeODESolver.integrate\u001b[0;34m(self, t)\u001b[0m\n\u001b[1;32m     <a href='file:///home/shengduo/anaconda3/lib/python3.9/site-packages/torchdiffeq/_impl/solvers.py?line=27'>28</a>\u001b[0m \u001b[39mself\u001b[39m\u001b[39m.\u001b[39m_before_integrate(t)\n\u001b[1;32m     <a href='file:///home/shengduo/anaconda3/lib/python3.9/site-packages/torchdiffeq/_impl/solvers.py?line=28'>29</a>\u001b[0m \u001b[39mfor\u001b[39;00m i \u001b[39min\u001b[39;00m \u001b[39mrange\u001b[39m(\u001b[39m1\u001b[39m, \u001b[39mlen\u001b[39m(t)):\n\u001b[0;32m---> <a href='file:///home/shengduo/anaconda3/lib/python3.9/site-packages/torchdiffeq/_impl/solvers.py?line=29'>30</a>\u001b[0m     solution[i] \u001b[39m=\u001b[39m \u001b[39mself\u001b[39;49m\u001b[39m.\u001b[39;49m_advance(t[i])\n\u001b[1;32m     <a href='file:///home/shengduo/anaconda3/lib/python3.9/site-packages/torchdiffeq/_impl/solvers.py?line=30'>31</a>\u001b[0m \u001b[39mreturn\u001b[39;00m solution\n",
      "File \u001b[0;32m~/anaconda3/lib/python3.9/site-packages/torchdiffeq/_impl/rk_common.py:194\u001b[0m, in \u001b[0;36mRKAdaptiveStepsizeODESolver._advance\u001b[0;34m(self, next_t)\u001b[0m\n\u001b[1;32m    <a href='file:///home/shengduo/anaconda3/lib/python3.9/site-packages/torchdiffeq/_impl/rk_common.py?line=191'>192</a>\u001b[0m \u001b[39mwhile\u001b[39;00m next_t \u001b[39m>\u001b[39m \u001b[39mself\u001b[39m\u001b[39m.\u001b[39mrk_state\u001b[39m.\u001b[39mt1:\n\u001b[1;32m    <a href='file:///home/shengduo/anaconda3/lib/python3.9/site-packages/torchdiffeq/_impl/rk_common.py?line=192'>193</a>\u001b[0m     \u001b[39massert\u001b[39;00m n_steps \u001b[39m<\u001b[39m \u001b[39mself\u001b[39m\u001b[39m.\u001b[39mmax_num_steps, \u001b[39m'\u001b[39m\u001b[39mmax_num_steps exceeded (\u001b[39m\u001b[39m{}\u001b[39;00m\u001b[39m>=\u001b[39m\u001b[39m{}\u001b[39;00m\u001b[39m)\u001b[39m\u001b[39m'\u001b[39m\u001b[39m.\u001b[39mformat(n_steps, \u001b[39mself\u001b[39m\u001b[39m.\u001b[39mmax_num_steps)\n\u001b[0;32m--> <a href='file:///home/shengduo/anaconda3/lib/python3.9/site-packages/torchdiffeq/_impl/rk_common.py?line=193'>194</a>\u001b[0m     \u001b[39mself\u001b[39m\u001b[39m.\u001b[39mrk_state \u001b[39m=\u001b[39m \u001b[39mself\u001b[39;49m\u001b[39m.\u001b[39;49m_adaptive_step(\u001b[39mself\u001b[39;49m\u001b[39m.\u001b[39;49mrk_state)\n\u001b[1;32m    <a href='file:///home/shengduo/anaconda3/lib/python3.9/site-packages/torchdiffeq/_impl/rk_common.py?line=194'>195</a>\u001b[0m     n_steps \u001b[39m+\u001b[39m\u001b[39m=\u001b[39m \u001b[39m1\u001b[39m\n\u001b[1;32m    <a href='file:///home/shengduo/anaconda3/lib/python3.9/site-packages/torchdiffeq/_impl/rk_common.py?line=195'>196</a>\u001b[0m \u001b[39mreturn\u001b[39;00m _interp_evaluate(\u001b[39mself\u001b[39m\u001b[39m.\u001b[39mrk_state\u001b[39m.\u001b[39minterp_coeff, \u001b[39mself\u001b[39m\u001b[39m.\u001b[39mrk_state\u001b[39m.\u001b[39mt0, \u001b[39mself\u001b[39m\u001b[39m.\u001b[39mrk_state\u001b[39m.\u001b[39mt1, next_t)\n",
      "File \u001b[0;32m~/anaconda3/lib/python3.9/site-packages/torchdiffeq/_impl/rk_common.py:228\u001b[0m, in \u001b[0;36mRKAdaptiveStepsizeODESolver._adaptive_step\u001b[0;34m(self, rk_state)\u001b[0m\n\u001b[1;32m    <a href='file:///home/shengduo/anaconda3/lib/python3.9/site-packages/torchdiffeq/_impl/rk_common.py?line=214'>215</a>\u001b[0m t1 \u001b[39m=\u001b[39m t0 \u001b[39m+\u001b[39m dt\n\u001b[1;32m    <a href='file:///home/shengduo/anaconda3/lib/python3.9/site-packages/torchdiffeq/_impl/rk_common.py?line=215'>216</a>\u001b[0m \u001b[39m# dtypes: self.y0.dtype (probably float32); self.dtype (probably float64)\u001b[39;00m\n\u001b[1;32m    <a href='file:///home/shengduo/anaconda3/lib/python3.9/site-packages/torchdiffeq/_impl/rk_common.py?line=216'>217</a>\u001b[0m \u001b[39m# used for state and timelike objects respectively.\u001b[39;00m\n\u001b[1;32m    <a href='file:///home/shengduo/anaconda3/lib/python3.9/site-packages/torchdiffeq/_impl/rk_common.py?line=217'>218</a>\u001b[0m \u001b[39m# Then:\u001b[39;00m\n\u001b[0;32m   (...)\u001b[0m\n\u001b[1;32m    <a href='file:///home/shengduo/anaconda3/lib/python3.9/site-packages/torchdiffeq/_impl/rk_common.py?line=225'>226</a>\u001b[0m \u001b[39m#                      Assertions                      #\u001b[39;00m\n\u001b[1;32m    <a href='file:///home/shengduo/anaconda3/lib/python3.9/site-packages/torchdiffeq/_impl/rk_common.py?line=226'>227</a>\u001b[0m \u001b[39m########################################################\u001b[39;00m\n\u001b[0;32m--> <a href='file:///home/shengduo/anaconda3/lib/python3.9/site-packages/torchdiffeq/_impl/rk_common.py?line=227'>228</a>\u001b[0m \u001b[39massert\u001b[39;00m t0 \u001b[39m+\u001b[39m dt \u001b[39m>\u001b[39m t0, \u001b[39m'\u001b[39m\u001b[39munderflow in dt \u001b[39m\u001b[39m{}\u001b[39;00m\u001b[39m'\u001b[39m\u001b[39m.\u001b[39mformat(dt\u001b[39m.\u001b[39mitem())\n\u001b[1;32m    <a href='file:///home/shengduo/anaconda3/lib/python3.9/site-packages/torchdiffeq/_impl/rk_common.py?line=228'>229</a>\u001b[0m \u001b[39massert\u001b[39;00m torch\u001b[39m.\u001b[39misfinite(y0)\u001b[39m.\u001b[39mall(), \u001b[39m'\u001b[39m\u001b[39mnon-finite values in state `y`: \u001b[39m\u001b[39m{}\u001b[39;00m\u001b[39m'\u001b[39m\u001b[39m.\u001b[39mformat(y0)\n\u001b[1;32m    <a href='file:///home/shengduo/anaconda3/lib/python3.9/site-packages/torchdiffeq/_impl/rk_common.py?line=230'>231</a>\u001b[0m \u001b[39m########################################################\u001b[39;00m\n\u001b[1;32m    <a href='file:///home/shengduo/anaconda3/lib/python3.9/site-packages/torchdiffeq/_impl/rk_common.py?line=231'>232</a>\u001b[0m \u001b[39m#     Make step, respecting prescribed grid points     #\u001b[39;00m\n\u001b[1;32m    <a href='file:///home/shengduo/anaconda3/lib/python3.9/site-packages/torchdiffeq/_impl/rk_common.py?line=232'>233</a>\u001b[0m \u001b[39m########################################################\u001b[39;00m\n",
      "\u001b[0;31mAssertionError\u001b[0m: underflow in dt nan"
     ]
    }
   ],
   "source": [
    "## Number of total alpha-beta iterations\n",
    "N_AllIters = 1\n",
    "this_alpha = alpha0\n",
    "this_beta = beta0\n",
    "\n",
    "## Run alpha-beta iterations\n",
    "for i in range(N_AllIters):\n",
    "    # Print out info\n",
    "    print(\"#\" * 40, \" Total Iteration {0} \".format(i) + \"#\" * 40)\n",
    "    \n",
    "    ## First optimize alpha\n",
    "    kwgs['alpha0'] = this_alpha\n",
    "    kwgs['beta_this'] = this_beta\n",
    "    \n",
    "    # Timing alpha\n",
    "    # Update this Alpha\n",
    "    # this_alpha = optAlpha(O_GAN, kwgs)\n",
    "    \n",
    "    \n",
    "    ## Run grad descent on beta\n",
    "    # Generate target v\n",
    "    v, t = generate_target_v(this_alpha, kwgs['VT'], kwgs['beta_targ'], kwgs['y0'], kwgs['this_rtol'], kwgs['this_atol'], kwgs['regularizedFlag'])\n",
    "    \n",
    "    # Run gradient descent\n",
    "    myGradBB = GradDescent(this_alpha, kwgs['alp_low'], kwgs['alp_high'], kwgs['VT'], \n",
    "                           this_beta, kwgs['beta_low'], kwgs['beta_high'], \n",
    "                           kwgs['y0'], v, t, \n",
    "                           objGrad_func = objGradFunc, scaling = scaling, \n",
    "                           max_steps = 10, stepping = 'BB', obs_rtol = 1e-5, lsrh_steps = 10, \n",
    "                           regularizedFlag = kwgs['regularizedFlag'], \n",
    "                           T = kwgs['T'], NofTPts = kwgs['NofTPts'], this_rtol = kwgs['this_rtol'], this_atol = kwgs['this_atol'])\n",
    "    \n",
    "    myGradBB.run()\n",
    "    \n",
    "    # Update parameters\n",
    "    this_beta = myGradBB.beta_optimal\n",
    "    print(\"Optimal beta: \", this_beta)"
   ]
  },
  {
   "cell_type": "code",
   "execution_count": null,
   "metadata": {},
   "outputs": [],
   "source": []
  }
 ],
 "metadata": {
  "interpreter": {
   "hash": "908f1ff8de8ebdc69e26ff027962402cbc597b1f299fe84c63d7830c8ca59587"
  },
  "kernelspec": {
   "display_name": "Python 3.9.12 ('base')",
   "language": "python",
   "name": "python3"
  },
  "language_info": {
   "codemirror_mode": {
    "name": "ipython",
    "version": 3
   },
   "file_extension": ".py",
   "mimetype": "text/x-python",
   "name": "python",
   "nbconvert_exporter": "python",
   "pygments_lexer": "ipython3",
   "version": "3.9.12"
  },
  "orig_nbformat": 4
 },
 "nbformat": 4,
 "nbformat_minor": 2
}

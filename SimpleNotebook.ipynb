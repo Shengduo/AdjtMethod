{
 "cells": [
  {
   "cell_type": "markdown",
   "metadata": {},
   "source": [
    "# Import Libraries"
   ]
  },
  {
   "cell_type": "code",
   "execution_count": 1,
   "metadata": {},
   "outputs": [
    {
     "name": "stderr",
     "output_type": "stream",
     "text": [
      "/home/shengduo/anaconda3/lib/python3.9/site-packages/scipy/__init__.py:146: UserWarning: A NumPy version >=1.16.5 and <1.23.0 is required for this version of SciPy (detected version 1.24.1\n",
      "  warnings.warn(f\"A NumPy version >={np_minversion} and <{np_maxversion}\"\n"
     ]
    }
   ],
   "source": [
    "## Import standard librarys\n",
    "import torch\n",
    "import torchdiffeq\n",
    "import pickle\n",
    "import time\n",
    "import torch.nn as nn\n",
    "import scipy.optimize as opt\n",
    "import numpy as np\n",
    "\n",
    "from torchdiffeq import odeint\n",
    "from xitorch.interpolate import Interp1D\n",
    "from scipy.interpolate import interp1d\n",
    "from matplotlib import pyplot as plt\n",
    "\n",
    "\n",
    "## Import local classes and functions\n",
    "from MassFricParams import MassFricParams\n",
    "from TimeSequenceGen import TimeSequenceGen\n",
    "from AdjointMethod import AdjDerivs\n",
    "from GradientDescent import GradDescent, objGradFunc\n",
    "\n",
    "torch.set_default_dtype(torch.float)"
   ]
  },
  {
   "cell_type": "markdown",
   "metadata": {},
   "source": [
    "# Gradient descent on fixed $\\alpha = [k, m, g]$ and $V$ "
   ]
  },
  {
   "cell_type": "code",
   "execution_count": 4,
   "metadata": {},
   "outputs": [],
   "source": [
    "# Set up the parameters\n",
    "alpha0 = torch.tensor([100., 1., 9.8])\n",
    "VT = torch.tensor([[1., 1.], [0., 5.]])\n",
    "\n",
    "# Alpha range\n",
    "alp_low = torch.tensor([50., 0.5, 1., 9.])\n",
    "alp_hi = torch.tensor([100., 2., 10., 10.])\n",
    "y0 = torch.tensor([0., 1.0, 1.0])\n",
    "\n",
    "# Start beta\n",
    "beta0 = torch.tensor([0.008, 0.012, 2.e-3, 0.5])\n",
    "\n",
    "# Target beta\n",
    "beta_targ = torch.tensor([0.011, 0.016, 1.e-3, 0.58])\n",
    "\n",
    "# Beta ranges\n",
    "beta_low = torch.tensor([0.001, 0.006, 0.5e-3, 0.3])\n",
    "beta_high = torch.tensor([0.021, 0.026, 5, 0.8])\n",
    "scaling = torch.tensor([1., 1., 1., 1.])\n",
    "\n",
    "# Other arguments for optAlpha function\n",
    "max_iters = 10\n",
    "maxFuncCalls = 200\n",
    "regularizedFlag = False\n",
    "noLocalSearch = True\n",
    "\n",
    "# Sequence specific parameters\n",
    "T = 5.\n",
    "NofTPts = 1000\n",
    "\n",
    "# Tolerance parameters\n",
    "this_rtol = 1.e-8\n",
    "this_atol = 1.e-10\n",
    "\n",
    "# Store the keywords for optAlpha\n",
    "kwgs = {\n",
    "    'y0' : y0, \n",
    "    'alpha0' : alpha0, \n",
    "    'VT' : VT,\n",
    "    'alp_low' : alp_low, \n",
    "    'alp_high' : alp_hi, \n",
    "    'max_iters' : max_iters, \n",
    "    'beta_this' : beta0, \n",
    "    'beta_targ' : beta_targ, \n",
    "    'beta_low' : beta_low, \n",
    "    'beta_high' : beta_high, \n",
    "    'regularizedFlag' : regularizedFlag, \n",
    "    'maxFuncCalls' : maxFuncCalls, \n",
    "    'noLocalSearch' : noLocalSearch\n",
    "}\n",
    "\n",
    "# Function to get target v\n",
    "def generate_target_v(alpha, VT, beta, y0, regularizedFlag = False):\n",
    "    # y0[1] = alpha[2]\n",
    "    targ_SpringSlider = MassFricParams(alpha, VT, beta, y0)\n",
    "    targ_SpringSlider.print_info()\n",
    "    targ_seq = TimeSequenceGen(T, NofTPts, targ_SpringSlider, \n",
    "                               rtol=this_rtol, atol=this_atol, regularizedFlag=regularizedFlag)\n",
    "    v = targ_seq.default_y[1, :], \n",
    "    t = targ_seq.t\n",
    "    return v[0], t"
   ]
  },
  {
   "cell_type": "code",
   "execution_count": 5,
   "metadata": {},
   "outputs": [
    {
     "name": "stdout",
     "output_type": "stream",
     "text": [
      "########################################  Total Iteration 0 ########################################\n",
      "--------------------  Mass and spring parameters  --------------------\n",
      "k:         tensor(100.)\n",
      "m:         tensor(1.)\n",
      "g:         tensor(9.8000)\n",
      "\n",
      "\n",
      "--------------------  Rate-and-state parameters  --------------------\n",
      "fr:        tensor(0.5800)\n",
      "a:         tensor(0.0110)\n",
      "b:         tensor(0.0160)\n",
      "DRS:       tensor(0.0010)\n",
      "y0:        tensor([0., 1., 1.])\n"
     ]
    },
    {
     "data": {
      "image/png": "[encoded data removed]",
      "text/plain": [
       "<Figure size 432x288 with 1 Axes>"
      ]
     },
     "metadata": {
      "needs_background": "light"
     },
     "output_type": "display_data"
    },
    {
     "name": "stderr",
     "output_type": "stream",
     "text": [
      "/home/shengduo/InverseProblems/AdjtMethod/MassFricParams.py:69: UserWarning: To copy construct from a tensor, it is recommended to use sourceTensor.clone().detach() or sourceTensor.clone().detach().requires_grad_(True), rather than torch.tensor(sourceTensor).\n",
      "  return torch.tensor(s, dtype=torch.float)\n"
     ]
    },
    {
     "name": "stdout",
     "output_type": "stream",
     "text": [
      "Time cost in computing gradients:  6.739881277084351\n",
      "shit\n",
      "Time cost in computing gradients:  6.694419622421265\n",
      "========================================\n",
      "Initial descent succeeds:  tensor(True)\n",
      "Observation:  tensor(0.0105)\n",
      "Gradient (scaled):  tensor([-2.2486,  2.2448, -0.0491, -0.3253])\n",
      "Relative error of observation:  tensor(0.0030)\n",
      "Time cost in computing gradients:  5.785423517227173\n",
      "========================================\n",
      "The 1th descent succeeds:  tensor(True)\n",
      "Gradient (scaled):  tensor([-0.4007,  0.3995, -0.0130, -0.1433])\n",
      "Relative error of observation:  tensor(0.0020)\n",
      "Time cost in computing gradients:  5.859521389007568\n",
      "========================================\n",
      "The 2th descent succeeds:  tensor(True)\n",
      "Gradient (scaled):  tensor([-0.0634,  0.0627, -0.0078, -0.1092])\n",
      "Relative error of observation:  tensor(0.0019)\n",
      "Time cost in computing gradients:  5.693756818771362\n",
      "========================================\n",
      "The 3th descent succeeds:  tensor(True)\n",
      "Gradient (scaled):  tensor([ 0.0023, -0.0030, -0.0068, -0.1024])\n",
      "Relative error of observation:  tensor(0.0019)\n",
      "Time cost in computing gradients:  5.689133882522583\n",
      "========================================\n",
      "The 4th descent succeeds:  tensor(True)\n",
      "Gradient (scaled):  tensor([ 0.0048, -0.0055, -0.0067, -0.1020])\n",
      "Relative error of observation:  tensor(0.0019)\n",
      "Time cost in computing gradients:  6.1232521533966064\n",
      "========================================\n",
      "The 5th descent succeeds:  tensor(True)\n",
      "Gradient (scaled):  tensor([ 0.0048, -0.0054, -0.0066, -0.1016])\n",
      "Relative error of observation:  tensor(0.0019)\n",
      "Time cost in computing gradients:  2.8139569759368896\n",
      "========================================\n",
      "The 6th descent succeeds:  tensor(True)\n",
      "Gradient (scaled):  tensor([ 0.2567, -0.2379,  0.0238,  0.0432])\n",
      "Relative error of observation:  tensor(0.0004)\n",
      "Time cost in computing gradients:  4.331578969955444\n",
      "========================================\n",
      "The 7th descent succeeds:  tensor(False)\n",
      "Gradient (scaled):  tensor([-14.7633,  14.6634,  -0.8551,  -1.3691])\n",
      "Relative error of observation:  tensor(0.0097)\n"
     ]
    },
    {
     "ename": "KeyboardInterrupt",
     "evalue": "",
     "output_type": "error",
     "traceback": [
      "\u001b[0;31m---------------------------------------------------------------------------\u001b[0m",
      "\u001b[0;31mKeyboardInterrupt\u001b[0m                         Traceback (most recent call last)",
      "\u001b[1;32m/home/shengduo/InverseProblems/AdjtMethod/SimpleNotebook.ipynb Cell 5'\u001b[0m in \u001b[0;36m<cell line: 7>\u001b[0;34m()\u001b[0m\n\u001b[1;32m     <a href='vscode-notebook-cell:/home/shengduo/InverseProblems/AdjtMethod/SimpleNotebook.ipynb#ch0000005?line=23'>24</a>\u001b[0m \u001b[39m# Run gradient descent\u001b[39;00m\n\u001b[1;32m     <a href='vscode-notebook-cell:/home/shengduo/InverseProblems/AdjtMethod/SimpleNotebook.ipynb#ch0000005?line=24'>25</a>\u001b[0m myGradBB \u001b[39m=\u001b[39m GradDescent(this_alpha, kwgs[\u001b[39m'\u001b[39m\u001b[39malp_low\u001b[39m\u001b[39m'\u001b[39m], kwgs[\u001b[39m'\u001b[39m\u001b[39malp_high\u001b[39m\u001b[39m'\u001b[39m], kwgs[\u001b[39m'\u001b[39m\u001b[39mVT\u001b[39m\u001b[39m'\u001b[39m], \n\u001b[1;32m     <a href='vscode-notebook-cell:/home/shengduo/InverseProblems/AdjtMethod/SimpleNotebook.ipynb#ch0000005?line=25'>26</a>\u001b[0m                        this_beta, kwgs[\u001b[39m'\u001b[39m\u001b[39mbeta_low\u001b[39m\u001b[39m'\u001b[39m], kwgs[\u001b[39m'\u001b[39m\u001b[39mbeta_high\u001b[39m\u001b[39m'\u001b[39m], \n\u001b[1;32m     <a href='vscode-notebook-cell:/home/shengduo/InverseProblems/AdjtMethod/SimpleNotebook.ipynb#ch0000005?line=26'>27</a>\u001b[0m                        kwgs[\u001b[39m'\u001b[39m\u001b[39my0\u001b[39m\u001b[39m'\u001b[39m], v, t, \n\u001b[1;32m     <a href='vscode-notebook-cell:/home/shengduo/InverseProblems/AdjtMethod/SimpleNotebook.ipynb#ch0000005?line=27'>28</a>\u001b[0m                        objGrad_func \u001b[39m=\u001b[39m objGradFunc, scaling \u001b[39m=\u001b[39m scaling, \n\u001b[1;32m     <a href='vscode-notebook-cell:/home/shengduo/InverseProblems/AdjtMethod/SimpleNotebook.ipynb#ch0000005?line=28'>29</a>\u001b[0m                        max_steps \u001b[39m=\u001b[39m \u001b[39m10\u001b[39m, stepping \u001b[39m=\u001b[39m \u001b[39m'\u001b[39m\u001b[39mBB\u001b[39m\u001b[39m'\u001b[39m, obs_rtol \u001b[39m=\u001b[39m \u001b[39m1e-5\u001b[39m, lsrh_steps \u001b[39m=\u001b[39m \u001b[39m10\u001b[39m)\n\u001b[0;32m---> <a href='vscode-notebook-cell:/home/shengduo/InverseProblems/AdjtMethod/SimpleNotebook.ipynb#ch0000005?line=30'>31</a>\u001b[0m myGradBB\u001b[39m.\u001b[39;49mrun()\n\u001b[1;32m     <a href='vscode-notebook-cell:/home/shengduo/InverseProblems/AdjtMethod/SimpleNotebook.ipynb#ch0000005?line=32'>33</a>\u001b[0m \u001b[39m# Update parameters\u001b[39;00m\n\u001b[1;32m     <a href='vscode-notebook-cell:/home/shengduo/InverseProblems/AdjtMethod/SimpleNotebook.ipynb#ch0000005?line=33'>34</a>\u001b[0m this_beta \u001b[39m=\u001b[39m myGradBB\u001b[39m.\u001b[39mbeta_optimal\n",
      "File \u001b[0;32m~/InverseProblems/AdjtMethod/GradientDescent.py:178\u001b[0m, in \u001b[0;36mGradDescent.run\u001b[0;34m(self)\u001b[0m\n\u001b[1;32m    <a href='file:///home/shengduo/InverseProblems/AdjtMethod/GradientDescent.py?line=175'>176</a>\u001b[0m \u001b[39m# Run max_iters number of iterations\u001b[39;00m\n\u001b[1;32m    <a href='file:///home/shengduo/InverseProblems/AdjtMethod/GradientDescent.py?line=176'>177</a>\u001b[0m \u001b[39mfor\u001b[39;00m i \u001b[39min\u001b[39;00m \u001b[39mrange\u001b[39m(\u001b[39mself\u001b[39m\u001b[39m.\u001b[39mmax_steps):\n\u001b[0;32m--> <a href='file:///home/shengduo/InverseProblems/AdjtMethod/GradientDescent.py?line=177'>178</a>\u001b[0m     success \u001b[39m=\u001b[39m \u001b[39mself\u001b[39;49m\u001b[39m.\u001b[39;49moneDescent()\n\u001b[1;32m    <a href='file:///home/shengduo/InverseProblems/AdjtMethod/GradientDescent.py?line=178'>179</a>\u001b[0m     \u001b[39mprint\u001b[39m(\u001b[39m\"\u001b[39m\u001b[39m=\u001b[39m\u001b[39m\"\u001b[39m \u001b[39m*\u001b[39m \u001b[39m40\u001b[39m)\n\u001b[1;32m    <a href='file:///home/shengduo/InverseProblems/AdjtMethod/GradientDescent.py?line=179'>180</a>\u001b[0m     \u001b[39mprint\u001b[39m(\u001b[39m\"\u001b[39m\u001b[39mThe \u001b[39m\u001b[39m{0}\u001b[39;00m\u001b[39mth descent succeeds: \u001b[39m\u001b[39m\"\u001b[39m\u001b[39m.\u001b[39mformat(i \u001b[39m+\u001b[39m \u001b[39m1\u001b[39m), success)\n",
      "File \u001b[0;32m~/InverseProblems/AdjtMethod/GradientDescent.py:147\u001b[0m, in \u001b[0;36mGradDescent.oneDescent\u001b[0;34m(self)\u001b[0m\n\u001b[1;32m    <a href='file:///home/shengduo/InverseProblems/AdjtMethod/GradientDescent.py?line=143'>144</a>\u001b[0m beta_trial \u001b[39m=\u001b[39m \u001b[39mself\u001b[39m\u001b[39m.\u001b[39mproject(\u001b[39mself\u001b[39m\u001b[39m.\u001b[39mbetas[\u001b[39m-\u001b[39m\u001b[39m1\u001b[39m] \u001b[39m-\u001b[39m stepSize \u001b[39m*\u001b[39m \u001b[39mself\u001b[39m\u001b[39m.\u001b[39mgrads[\u001b[39m-\u001b[39m\u001b[39m1\u001b[39m])\n\u001b[1;32m    <a href='file:///home/shengduo/InverseProblems/AdjtMethod/GradientDescent.py?line=145'>146</a>\u001b[0m \u001b[39m# Append the betas and objs\u001b[39;00m\n\u001b[0;32m--> <a href='file:///home/shengduo/InverseProblems/AdjtMethod/GradientDescent.py?line=146'>147</a>\u001b[0m obj_trial, grad_trial \u001b[39m=\u001b[39m \u001b[39mself\u001b[39;49m\u001b[39m.\u001b[39;49mobjGrad_func(\u001b[39mself\u001b[39;49m\u001b[39m.\u001b[39;49malpha0, \u001b[39mself\u001b[39;49m\u001b[39m.\u001b[39;49mVT, beta_trial, \u001b[39mself\u001b[39;49m\u001b[39m.\u001b[39;49my0, \u001b[39mself\u001b[39;49m\u001b[39m.\u001b[39;49mtarg_y, \n\u001b[1;32m    <a href='file:///home/shengduo/InverseProblems/AdjtMethod/GradientDescent.py?line=147'>148</a>\u001b[0m                                           \u001b[39mself\u001b[39;49m\u001b[39m.\u001b[39;49mscaling, objOnly \u001b[39m=\u001b[39;49m \u001b[39mFalse\u001b[39;49;00m)\n\u001b[1;32m    <a href='file:///home/shengduo/InverseProblems/AdjtMethod/GradientDescent.py?line=148'>149</a>\u001b[0m \u001b[39mself\u001b[39m\u001b[39m.\u001b[39mbetas\u001b[39m.\u001b[39mappend(beta_trial)\n\u001b[1;32m    <a href='file:///home/shengduo/InverseProblems/AdjtMethod/GradientDescent.py?line=149'>150</a>\u001b[0m \u001b[39mself\u001b[39m\u001b[39m.\u001b[39mobjs\u001b[39m.\u001b[39mappend(obj_trial)\n",
      "File \u001b[0;32m~/InverseProblems/AdjtMethod/GradientDescent.py:36\u001b[0m, in \u001b[0;36mobjGradFunc\u001b[0;34m(alpha, VT, beta, y0, targ_y, scaling, regularizedFlag, objOnly)\u001b[0m\n\u001b[1;32m     <a href='file:///home/shengduo/InverseProblems/AdjtMethod/GradientDescent.py?line=32'>33</a>\u001b[0m this_RSParams \u001b[39m=\u001b[39m beta \u001b[39m*\u001b[39m scaling\n\u001b[1;32m     <a href='file:///home/shengduo/InverseProblems/AdjtMethod/GradientDescent.py?line=33'>34</a>\u001b[0m this_SpringSlider \u001b[39m=\u001b[39m MassFricParams(alpha, VT, this_RSParams, y0)\n\u001b[0;32m---> <a href='file:///home/shengduo/InverseProblems/AdjtMethod/GradientDescent.py?line=35'>36</a>\u001b[0m this_seq \u001b[39m=\u001b[39m TimeSequenceGen(T, NofTPts, this_SpringSlider, \n\u001b[1;32m     <a href='file:///home/shengduo/InverseProblems/AdjtMethod/GradientDescent.py?line=36'>37</a>\u001b[0m                            rtol\u001b[39m=\u001b[39;49mthis_rtol, atol\u001b[39m=\u001b[39;49mthis_atol, regularizedFlag \u001b[39m=\u001b[39;49m regularizedFlag)\n\u001b[1;32m     <a href='file:///home/shengduo/InverseProblems/AdjtMethod/GradientDescent.py?line=38'>39</a>\u001b[0m \u001b[39m# Compute the value of objective function\u001b[39;00m\n\u001b[1;32m     <a href='file:///home/shengduo/InverseProblems/AdjtMethod/GradientDescent.py?line=39'>40</a>\u001b[0m obj \u001b[39m=\u001b[39m O(this_seq\u001b[39m.\u001b[39mdefault_y, targ_y, this_seq\u001b[39m.\u001b[39mt, this_SpringSlider)\n",
      "File \u001b[0;32m~/InverseProblems/AdjtMethod/TimeSequenceGen.py:41\u001b[0m, in \u001b[0;36mTimeSequenceGen.__init__\u001b[0;34m(self, T, NofTPts, MFParams, rtol, atol, regularizedFlag)\u001b[0m\n\u001b[1;32m     <a href='file:///home/shengduo/InverseProblems/AdjtMethod/TimeSequenceGen.py?line=38'>39</a>\u001b[0m \u001b[39m# Generate the sequence\u001b[39;00m\n\u001b[1;32m     <a href='file:///home/shengduo/InverseProblems/AdjtMethod/TimeSequenceGen.py?line=39'>40</a>\u001b[0m st \u001b[39m=\u001b[39m time\u001b[39m.\u001b[39mtime()\n\u001b[0;32m---> <a href='file:///home/shengduo/InverseProblems/AdjtMethod/TimeSequenceGen.py?line=40'>41</a>\u001b[0m \u001b[39mself\u001b[39m\u001b[39m.\u001b[39mdefault_y \u001b[39m=\u001b[39m \u001b[39mself\u001b[39;49m\u001b[39m.\u001b[39;49mcalculateYAtT(\u001b[39mself\u001b[39;49m\u001b[39m.\u001b[39;49mt)\n\u001b[1;32m     <a href='file:///home/shengduo/InverseProblems/AdjtMethod/TimeSequenceGen.py?line=41'>42</a>\u001b[0m \u001b[39mself\u001b[39m\u001b[39m.\u001b[39mtime_cost \u001b[39m=\u001b[39m time\u001b[39m.\u001b[39mtime() \u001b[39m-\u001b[39m st\n",
      "File \u001b[0;32m~/InverseProblems/AdjtMethod/TimeSequenceGen.py:85\u001b[0m, in \u001b[0;36mTimeSequenceGen.calculateYAtT\u001b[0;34m(self, t)\u001b[0m\n\u001b[1;32m     <a href='file:///home/shengduo/InverseProblems/AdjtMethod/TimeSequenceGen.py?line=83'>84</a>\u001b[0m \u001b[39mdef\u001b[39;00m \u001b[39mcalculateYAtT\u001b[39m(\u001b[39mself\u001b[39m, t):\n\u001b[0;32m---> <a href='file:///home/shengduo/InverseProblems/AdjtMethod/TimeSequenceGen.py?line=84'>85</a>\u001b[0m     y \u001b[39m=\u001b[39m odeint(\u001b[39mself\u001b[39;49m\u001b[39m.\u001b[39;49mDyDt, \u001b[39mself\u001b[39;49m\u001b[39m.\u001b[39;49mMFParams\u001b[39m.\u001b[39;49my0, t, \n\u001b[1;32m     <a href='file:///home/shengduo/InverseProblems/AdjtMethod/TimeSequenceGen.py?line=85'>86</a>\u001b[0m                rtol \u001b[39m=\u001b[39;49m \u001b[39mself\u001b[39;49m\u001b[39m.\u001b[39;49mrtol, atol \u001b[39m=\u001b[39;49m \u001b[39mself\u001b[39;49m\u001b[39m.\u001b[39;49matol, method \u001b[39m=\u001b[39;49m \u001b[39m'\u001b[39;49m\u001b[39mdopri5\u001b[39;49m\u001b[39m'\u001b[39;49m)\n\u001b[1;32m     <a href='file:///home/shengduo/InverseProblems/AdjtMethod/TimeSequenceGen.py?line=86'>87</a>\u001b[0m     \u001b[39mreturn\u001b[39;00m torch\u001b[39m.\u001b[39mtranspose(y, \u001b[39m0\u001b[39m, \u001b[39m1\u001b[39m)\n",
      "File \u001b[0;32m~/anaconda3/lib/python3.9/site-packages/torchdiffeq/_impl/odeint.py:77\u001b[0m, in \u001b[0;36modeint\u001b[0;34m(func, y0, t, rtol, atol, method, options, event_fn)\u001b[0m\n\u001b[1;32m     <a href='file:///home/shengduo/anaconda3/lib/python3.9/site-packages/torchdiffeq/_impl/odeint.py?line=73'>74</a>\u001b[0m solver \u001b[39m=\u001b[39m SOLVERS[method](func\u001b[39m=\u001b[39mfunc, y0\u001b[39m=\u001b[39my0, rtol\u001b[39m=\u001b[39mrtol, atol\u001b[39m=\u001b[39matol, \u001b[39m*\u001b[39m\u001b[39m*\u001b[39moptions)\n\u001b[1;32m     <a href='file:///home/shengduo/anaconda3/lib/python3.9/site-packages/torchdiffeq/_impl/odeint.py?line=75'>76</a>\u001b[0m \u001b[39mif\u001b[39;00m event_fn \u001b[39mis\u001b[39;00m \u001b[39mNone\u001b[39;00m:\n\u001b[0;32m---> <a href='file:///home/shengduo/anaconda3/lib/python3.9/site-packages/torchdiffeq/_impl/odeint.py?line=76'>77</a>\u001b[0m     solution \u001b[39m=\u001b[39m solver\u001b[39m.\u001b[39;49mintegrate(t)\n\u001b[1;32m     <a href='file:///home/shengduo/anaconda3/lib/python3.9/site-packages/torchdiffeq/_impl/odeint.py?line=77'>78</a>\u001b[0m \u001b[39melse\u001b[39;00m:\n\u001b[1;32m     <a href='file:///home/shengduo/anaconda3/lib/python3.9/site-packages/torchdiffeq/_impl/odeint.py?line=78'>79</a>\u001b[0m     event_t, solution \u001b[39m=\u001b[39m solver\u001b[39m.\u001b[39mintegrate_until_event(t[\u001b[39m0\u001b[39m], event_fn)\n",
      "File \u001b[0;32m~/anaconda3/lib/python3.9/site-packages/torchdiffeq/_impl/solvers.py:30\u001b[0m, in \u001b[0;36mAdaptiveStepsizeODESolver.integrate\u001b[0;34m(self, t)\u001b[0m\n\u001b[1;32m     <a href='file:///home/shengduo/anaconda3/lib/python3.9/site-packages/torchdiffeq/_impl/solvers.py?line=27'>28</a>\u001b[0m \u001b[39mself\u001b[39m\u001b[39m.\u001b[39m_before_integrate(t)\n\u001b[1;32m     <a href='file:///home/shengduo/anaconda3/lib/python3.9/site-packages/torchdiffeq/_impl/solvers.py?line=28'>29</a>\u001b[0m \u001b[39mfor\u001b[39;00m i \u001b[39min\u001b[39;00m \u001b[39mrange\u001b[39m(\u001b[39m1\u001b[39m, \u001b[39mlen\u001b[39m(t)):\n\u001b[0;32m---> <a href='file:///home/shengduo/anaconda3/lib/python3.9/site-packages/torchdiffeq/_impl/solvers.py?line=29'>30</a>\u001b[0m     solution[i] \u001b[39m=\u001b[39m \u001b[39mself\u001b[39;49m\u001b[39m.\u001b[39;49m_advance(t[i])\n\u001b[1;32m     <a href='file:///home/shengduo/anaconda3/lib/python3.9/site-packages/torchdiffeq/_impl/solvers.py?line=30'>31</a>\u001b[0m \u001b[39mreturn\u001b[39;00m solution\n",
      "File \u001b[0;32m~/anaconda3/lib/python3.9/site-packages/torchdiffeq/_impl/rk_common.py:194\u001b[0m, in \u001b[0;36mRKAdaptiveStepsizeODESolver._advance\u001b[0;34m(self, next_t)\u001b[0m\n\u001b[1;32m    <a href='file:///home/shengduo/anaconda3/lib/python3.9/site-packages/torchdiffeq/_impl/rk_common.py?line=191'>192</a>\u001b[0m \u001b[39mwhile\u001b[39;00m next_t \u001b[39m>\u001b[39m \u001b[39mself\u001b[39m\u001b[39m.\u001b[39mrk_state\u001b[39m.\u001b[39mt1:\n\u001b[1;32m    <a href='file:///home/shengduo/anaconda3/lib/python3.9/site-packages/torchdiffeq/_impl/rk_common.py?line=192'>193</a>\u001b[0m     \u001b[39massert\u001b[39;00m n_steps \u001b[39m<\u001b[39m \u001b[39mself\u001b[39m\u001b[39m.\u001b[39mmax_num_steps, \u001b[39m'\u001b[39m\u001b[39mmax_num_steps exceeded (\u001b[39m\u001b[39m{}\u001b[39;00m\u001b[39m>=\u001b[39m\u001b[39m{}\u001b[39;00m\u001b[39m)\u001b[39m\u001b[39m'\u001b[39m\u001b[39m.\u001b[39mformat(n_steps, \u001b[39mself\u001b[39m\u001b[39m.\u001b[39mmax_num_steps)\n\u001b[0;32m--> <a href='file:///home/shengduo/anaconda3/lib/python3.9/site-packages/torchdiffeq/_impl/rk_common.py?line=193'>194</a>\u001b[0m     \u001b[39mself\u001b[39m\u001b[39m.\u001b[39mrk_state \u001b[39m=\u001b[39m \u001b[39mself\u001b[39;49m\u001b[39m.\u001b[39;49m_adaptive_step(\u001b[39mself\u001b[39;49m\u001b[39m.\u001b[39;49mrk_state)\n\u001b[1;32m    <a href='file:///home/shengduo/anaconda3/lib/python3.9/site-packages/torchdiffeq/_impl/rk_common.py?line=194'>195</a>\u001b[0m     n_steps \u001b[39m+\u001b[39m\u001b[39m=\u001b[39m \u001b[39m1\u001b[39m\n\u001b[1;32m    <a href='file:///home/shengduo/anaconda3/lib/python3.9/site-packages/torchdiffeq/_impl/rk_common.py?line=195'>196</a>\u001b[0m \u001b[39mreturn\u001b[39;00m _interp_evaluate(\u001b[39mself\u001b[39m\u001b[39m.\u001b[39mrk_state\u001b[39m.\u001b[39minterp_coeff, \u001b[39mself\u001b[39m\u001b[39m.\u001b[39mrk_state\u001b[39m.\u001b[39mt0, \u001b[39mself\u001b[39m\u001b[39m.\u001b[39mrk_state\u001b[39m.\u001b[39mt1, next_t)\n",
      "File \u001b[0;32m~/anaconda3/lib/python3.9/site-packages/torchdiffeq/_impl/rk_common.py:255\u001b[0m, in \u001b[0;36mRKAdaptiveStepsizeODESolver._adaptive_step\u001b[0;34m(self, rk_state)\u001b[0m\n\u001b[1;32m    <a href='file:///home/shengduo/anaconda3/lib/python3.9/site-packages/torchdiffeq/_impl/rk_common.py?line=249'>250</a>\u001b[0m         dt \u001b[39m=\u001b[39m t1 \u001b[39m-\u001b[39m t0\n\u001b[1;32m    <a href='file:///home/shengduo/anaconda3/lib/python3.9/site-packages/torchdiffeq/_impl/rk_common.py?line=251'>252</a>\u001b[0m \u001b[39m# Must be arranged as doing all the step_t handling, then all the jump_t handling, in case we\u001b[39;00m\n\u001b[1;32m    <a href='file:///home/shengduo/anaconda3/lib/python3.9/site-packages/torchdiffeq/_impl/rk_common.py?line=252'>253</a>\u001b[0m \u001b[39m# trigger both. (i.e. interleaving them would be wrong.)\u001b[39;00m\n\u001b[0;32m--> <a href='file:///home/shengduo/anaconda3/lib/python3.9/site-packages/torchdiffeq/_impl/rk_common.py?line=254'>255</a>\u001b[0m y1, f1, y1_error, k \u001b[39m=\u001b[39m _runge_kutta_step(\u001b[39mself\u001b[39;49m\u001b[39m.\u001b[39;49mfunc, y0, f0, t0, dt, t1, tableau\u001b[39m=\u001b[39;49m\u001b[39mself\u001b[39;49m\u001b[39m.\u001b[39;49mtableau)\n\u001b[1;32m    <a href='file:///home/shengduo/anaconda3/lib/python3.9/site-packages/torchdiffeq/_impl/rk_common.py?line=255'>256</a>\u001b[0m \u001b[39m# dtypes:\u001b[39;00m\n\u001b[1;32m    <a href='file:///home/shengduo/anaconda3/lib/python3.9/site-packages/torchdiffeq/_impl/rk_common.py?line=256'>257</a>\u001b[0m \u001b[39m# y1.dtype == self.y0.dtype\u001b[39;00m\n\u001b[1;32m    <a href='file:///home/shengduo/anaconda3/lib/python3.9/site-packages/torchdiffeq/_impl/rk_common.py?line=257'>258</a>\u001b[0m \u001b[39m# f1.dtype == self.y0.dtype\u001b[39;00m\n\u001b[0;32m   (...)\u001b[0m\n\u001b[1;32m    <a href='file:///home/shengduo/anaconda3/lib/python3.9/site-packages/torchdiffeq/_impl/rk_common.py?line=262'>263</a>\u001b[0m \u001b[39m#                     Error Ratio                      #\u001b[39;00m\n\u001b[1;32m    <a href='file:///home/shengduo/anaconda3/lib/python3.9/site-packages/torchdiffeq/_impl/rk_common.py?line=263'>264</a>\u001b[0m \u001b[39m########################################################\u001b[39;00m\n\u001b[1;32m    <a href='file:///home/shengduo/anaconda3/lib/python3.9/site-packages/torchdiffeq/_impl/rk_common.py?line=264'>265</a>\u001b[0m error_ratio \u001b[39m=\u001b[39m _compute_error_ratio(y1_error, \u001b[39mself\u001b[39m\u001b[39m.\u001b[39mrtol, \u001b[39mself\u001b[39m\u001b[39m.\u001b[39matol, y0, y1, \u001b[39mself\u001b[39m\u001b[39m.\u001b[39mnorm)\n",
      "File \u001b[0;32m~/anaconda3/lib/python3.9/site-packages/torchdiffeq/_impl/rk_common.py:76\u001b[0m, in \u001b[0;36m_runge_kutta_step\u001b[0;34m(func, y0, f0, t0, dt, t1, tableau)\u001b[0m\n\u001b[1;32m     <a href='file:///home/shengduo/anaconda3/lib/python3.9/site-packages/torchdiffeq/_impl/rk_common.py?line=73'>74</a>\u001b[0m         perturb \u001b[39m=\u001b[39m Perturb\u001b[39m.\u001b[39mNONE\n\u001b[1;32m     <a href='file:///home/shengduo/anaconda3/lib/python3.9/site-packages/torchdiffeq/_impl/rk_common.py?line=74'>75</a>\u001b[0m     yi \u001b[39m=\u001b[39m y0 \u001b[39m+\u001b[39m torch\u001b[39m.\u001b[39msum(k[\u001b[39m.\u001b[39m\u001b[39m.\u001b[39m\u001b[39m.\u001b[39m, :i \u001b[39m+\u001b[39m \u001b[39m1\u001b[39m] \u001b[39m*\u001b[39m (beta_i \u001b[39m*\u001b[39m dt), dim\u001b[39m=\u001b[39m\u001b[39m-\u001b[39m\u001b[39m1\u001b[39m)\u001b[39m.\u001b[39mview_as(f0)\n\u001b[0;32m---> <a href='file:///home/shengduo/anaconda3/lib/python3.9/site-packages/torchdiffeq/_impl/rk_common.py?line=75'>76</a>\u001b[0m     f \u001b[39m=\u001b[39m func(ti, yi, perturb\u001b[39m=\u001b[39;49mperturb)\n\u001b[1;32m     <a href='file:///home/shengduo/anaconda3/lib/python3.9/site-packages/torchdiffeq/_impl/rk_common.py?line=76'>77</a>\u001b[0m     k \u001b[39m=\u001b[39m _UncheckedAssign\u001b[39m.\u001b[39mapply(k, f, (\u001b[39m.\u001b[39m\u001b[39m.\u001b[39m\u001b[39m.\u001b[39m, i \u001b[39m+\u001b[39m \u001b[39m1\u001b[39m))\n\u001b[1;32m     <a href='file:///home/shengduo/anaconda3/lib/python3.9/site-packages/torchdiffeq/_impl/rk_common.py?line=78'>79</a>\u001b[0m \u001b[39mif\u001b[39;00m \u001b[39mnot\u001b[39;00m (tableau\u001b[39m.\u001b[39mc_sol[\u001b[39m-\u001b[39m\u001b[39m1\u001b[39m] \u001b[39m==\u001b[39m \u001b[39m0\u001b[39m \u001b[39mand\u001b[39;00m (tableau\u001b[39m.\u001b[39mc_sol[:\u001b[39m-\u001b[39m\u001b[39m1\u001b[39m] \u001b[39m==\u001b[39m tableau\u001b[39m.\u001b[39mbeta[\u001b[39m-\u001b[39m\u001b[39m1\u001b[39m])\u001b[39m.\u001b[39mall()):\n\u001b[1;32m     <a href='file:///home/shengduo/anaconda3/lib/python3.9/site-packages/torchdiffeq/_impl/rk_common.py?line=79'>80</a>\u001b[0m     \u001b[39m# This property (true for Dormand-Prince) lets us save a few FLOPs.\u001b[39;00m\n",
      "File \u001b[0;32m~/anaconda3/lib/python3.9/site-packages/torch/nn/modules/module.py:1130\u001b[0m, in \u001b[0;36mModule._call_impl\u001b[0;34m(self, *input, **kwargs)\u001b[0m\n\u001b[1;32m   <a href='file:///home/shengduo/anaconda3/lib/python3.9/site-packages/torch/nn/modules/module.py?line=1125'>1126</a>\u001b[0m \u001b[39m# If we don't have any hooks, we want to skip the rest of the logic in\u001b[39;00m\n\u001b[1;32m   <a href='file:///home/shengduo/anaconda3/lib/python3.9/site-packages/torch/nn/modules/module.py?line=1126'>1127</a>\u001b[0m \u001b[39m# this function, and just call forward.\u001b[39;00m\n\u001b[1;32m   <a href='file:///home/shengduo/anaconda3/lib/python3.9/site-packages/torch/nn/modules/module.py?line=1127'>1128</a>\u001b[0m \u001b[39mif\u001b[39;00m \u001b[39mnot\u001b[39;00m (\u001b[39mself\u001b[39m\u001b[39m.\u001b[39m_backward_hooks \u001b[39mor\u001b[39;00m \u001b[39mself\u001b[39m\u001b[39m.\u001b[39m_forward_hooks \u001b[39mor\u001b[39;00m \u001b[39mself\u001b[39m\u001b[39m.\u001b[39m_forward_pre_hooks \u001b[39mor\u001b[39;00m _global_backward_hooks\n\u001b[1;32m   <a href='file:///home/shengduo/anaconda3/lib/python3.9/site-packages/torch/nn/modules/module.py?line=1128'>1129</a>\u001b[0m         \u001b[39mor\u001b[39;00m _global_forward_hooks \u001b[39mor\u001b[39;00m _global_forward_pre_hooks):\n\u001b[0;32m-> <a href='file:///home/shengduo/anaconda3/lib/python3.9/site-packages/torch/nn/modules/module.py?line=1129'>1130</a>\u001b[0m     \u001b[39mreturn\u001b[39;00m forward_call(\u001b[39m*\u001b[39;49m\u001b[39minput\u001b[39;49m, \u001b[39m*\u001b[39;49m\u001b[39m*\u001b[39;49mkwargs)\n\u001b[1;32m   <a href='file:///home/shengduo/anaconda3/lib/python3.9/site-packages/torch/nn/modules/module.py?line=1130'>1131</a>\u001b[0m \u001b[39m# Do not call functions when jit is used\u001b[39;00m\n\u001b[1;32m   <a href='file:///home/shengduo/anaconda3/lib/python3.9/site-packages/torch/nn/modules/module.py?line=1131'>1132</a>\u001b[0m full_backward_hooks, non_full_backward_hooks \u001b[39m=\u001b[39m [], []\n",
      "File \u001b[0;32m~/anaconda3/lib/python3.9/site-packages/torchdiffeq/_impl/misc.py:189\u001b[0m, in \u001b[0;36m_PerturbFunc.forward\u001b[0;34m(self, t, y, perturb)\u001b[0m\n\u001b[1;32m    <a href='file:///home/shengduo/anaconda3/lib/python3.9/site-packages/torchdiffeq/_impl/misc.py?line=185'>186</a>\u001b[0m \u001b[39melse\u001b[39;00m:\n\u001b[1;32m    <a href='file:///home/shengduo/anaconda3/lib/python3.9/site-packages/torchdiffeq/_impl/misc.py?line=186'>187</a>\u001b[0m     \u001b[39m# Do nothing.\u001b[39;00m\n\u001b[1;32m    <a href='file:///home/shengduo/anaconda3/lib/python3.9/site-packages/torchdiffeq/_impl/misc.py?line=187'>188</a>\u001b[0m     \u001b[39mpass\u001b[39;00m\n\u001b[0;32m--> <a href='file:///home/shengduo/anaconda3/lib/python3.9/site-packages/torchdiffeq/_impl/misc.py?line=188'>189</a>\u001b[0m \u001b[39mreturn\u001b[39;00m \u001b[39mself\u001b[39;49m\u001b[39m.\u001b[39;49mbase_func(t, y)\n",
      "File \u001b[0;32m~/InverseProblems/AdjtMethod/TimeSequenceGen.py:73\u001b[0m, in \u001b[0;36mTimeSequenceGen.DyDt\u001b[0;34m(self, t, y)\u001b[0m\n\u001b[1;32m     <a href='file:///home/shengduo/InverseProblems/AdjtMethod/TimeSequenceGen.py?line=60'>61</a>\u001b[0m             DyDt \u001b[39m=\u001b[39m torch\u001b[39m.\u001b[39mtensor([y[\u001b[39m1\u001b[39m], \n\u001b[1;32m     <a href='file:///home/shengduo/InverseProblems/AdjtMethod/TimeSequenceGen.py?line=61'>62</a>\u001b[0m                                  \u001b[39mself\u001b[39m\u001b[39m.\u001b[39mMFParams\u001b[39m.\u001b[39mk \u001b[39m/\u001b[39m \u001b[39mself\u001b[39m\u001b[39m.\u001b[39mMFParams\u001b[39m.\u001b[39mm \u001b[39m*\u001b[39m (\u001b[39mself\u001b[39m\u001b[39m.\u001b[39mMFParams\u001b[39m.\u001b[39mSatT_interp(t) \u001b[39m-\u001b[39m y[\u001b[39m0\u001b[39m]) \u001b[39m-\u001b[39m \\\n\u001b[1;32m     <a href='file:///home/shengduo/InverseProblems/AdjtMethod/TimeSequenceGen.py?line=62'>63</a>\u001b[0m                                  \u001b[39mself\u001b[39m\u001b[39m.\u001b[39mMFParams\u001b[39m.\u001b[39mg \u001b[39m*\u001b[39m (a \u001b[39m*\u001b[39m torch\u001b[39m.\u001b[39masinh(\n\u001b[1;32m     <a href='file:///home/shengduo/InverseProblems/AdjtMethod/TimeSequenceGen.py?line=63'>64</a>\u001b[0m                                      y[\u001b[39m1\u001b[39m] \u001b[39m/\u001b[39m \u001b[39m2.e-6\u001b[39m \u001b[39m*\u001b[39m torch\u001b[39m.\u001b[39mexp((fStar \u001b[39m+\u001b[39m b \u001b[39m*\u001b[39m torch\u001b[39m.\u001b[39mlog(\u001b[39m1.e-6\u001b[39m \u001b[39m*\u001b[39m y[\u001b[39m2\u001b[39m] \u001b[39m/\u001b[39m DRS)) \u001b[39m/\u001b[39m a)\n\u001b[1;32m     <a href='file:///home/shengduo/InverseProblems/AdjtMethod/TimeSequenceGen.py?line=64'>65</a>\u001b[0m                                  )), \n\u001b[1;32m     <a href='file:///home/shengduo/InverseProblems/AdjtMethod/TimeSequenceGen.py?line=65'>66</a>\u001b[0m                                  \u001b[39m1\u001b[39m \u001b[39m-\u001b[39m y[\u001b[39m2\u001b[39m] \u001b[39m*\u001b[39m y[\u001b[39m1\u001b[39m] \u001b[39m/\u001b[39m DRS])\n\u001b[1;32m     <a href='file:///home/shengduo/InverseProblems/AdjtMethod/TimeSequenceGen.py?line=66'>67</a>\u001b[0m         \u001b[39melse\u001b[39;00m:\n\u001b[1;32m     <a href='file:///home/shengduo/InverseProblems/AdjtMethod/TimeSequenceGen.py?line=67'>68</a>\u001b[0m             DyDt \u001b[39m=\u001b[39m torch\u001b[39m.\u001b[39mtensor([y[\u001b[39m1\u001b[39m], \n\u001b[1;32m     <a href='file:///home/shengduo/InverseProblems/AdjtMethod/TimeSequenceGen.py?line=68'>69</a>\u001b[0m                                  \u001b[39mself\u001b[39m\u001b[39m.\u001b[39mMFParams\u001b[39m.\u001b[39mk \u001b[39m/\u001b[39m \u001b[39mself\u001b[39m\u001b[39m.\u001b[39mMFParams\u001b[39m.\u001b[39mm \u001b[39m*\u001b[39m (\u001b[39mself\u001b[39m\u001b[39m.\u001b[39mMFParams\u001b[39m.\u001b[39mSatT_interp(t) \u001b[39m-\u001b[39m y[\u001b[39m0\u001b[39m]) \u001b[39m-\u001b[39m \\\n\u001b[1;32m     <a href='file:///home/shengduo/InverseProblems/AdjtMethod/TimeSequenceGen.py?line=69'>70</a>\u001b[0m                                  \u001b[39mself\u001b[39m\u001b[39m.\u001b[39mMFParams\u001b[39m.\u001b[39mg \u001b[39m*\u001b[39m (fStar \u001b[39m+\u001b[39m \\\n\u001b[1;32m     <a href='file:///home/shengduo/InverseProblems/AdjtMethod/TimeSequenceGen.py?line=70'>71</a>\u001b[0m                                                     a \u001b[39m*\u001b[39m torch\u001b[39m.\u001b[39mlog(y[\u001b[39m1\u001b[39m] \u001b[39m/\u001b[39m \u001b[39m1.e-6\u001b[39m) \u001b[39m+\u001b[39m \\\n\u001b[1;32m     <a href='file:///home/shengduo/InverseProblems/AdjtMethod/TimeSequenceGen.py?line=71'>72</a>\u001b[0m                                                     b \u001b[39m*\u001b[39m torch\u001b[39m.\u001b[39mlog(\u001b[39m1.e-6\u001b[39m \u001b[39m*\u001b[39m y[\u001b[39m2\u001b[39m] \u001b[39m/\u001b[39m DRS)), \n\u001b[0;32m---> <a href='file:///home/shengduo/InverseProblems/AdjtMethod/TimeSequenceGen.py?line=72'>73</a>\u001b[0m                                  \u001b[39m1\u001b[39;49m \u001b[39m-\u001b[39;49m y[\u001b[39m2\u001b[39;49m] \u001b[39m*\u001b[39;49m y[\u001b[39m1\u001b[39;49m] \u001b[39m/\u001b[39;49m DRS])             \n\u001b[1;32m     <a href='file:///home/shengduo/InverseProblems/AdjtMethod/TimeSequenceGen.py?line=73'>74</a>\u001b[0m         \u001b[39m# DEBUG LINES\u001b[39;00m\n\u001b[1;32m     <a href='file:///home/shengduo/InverseProblems/AdjtMethod/TimeSequenceGen.py?line=74'>75</a>\u001b[0m \u001b[39m#         print(\"-\" * 30)\u001b[39;00m\n\u001b[1;32m     <a href='file:///home/shengduo/InverseProblems/AdjtMethod/TimeSequenceGen.py?line=75'>76</a>\u001b[0m \u001b[39m#         print('t = ', t)\u001b[39;00m\n\u001b[1;32m     <a href='file:///home/shengduo/InverseProblems/AdjtMethod/TimeSequenceGen.py?line=76'>77</a>\u001b[0m \u001b[39m#         print('y = ', y)\u001b[39;00m\n\u001b[1;32m     <a href='file:///home/shengduo/InverseProblems/AdjtMethod/TimeSequenceGen.py?line=77'>78</a>\u001b[0m \u001b[39m#         print('DyDt = ', DyDt)\u001b[39;00m\n\u001b[1;32m     <a href='file:///home/shengduo/InverseProblems/AdjtMethod/TimeSequenceGen.py?line=79'>80</a>\u001b[0m         \u001b[39mreturn\u001b[39;00m DyDt\n",
      "File \u001b[0;32m~/anaconda3/lib/python3.9/site-packages/torch/_tensor.py:32\u001b[0m, in \u001b[0;36m_handle_torch_function_and_wrap_type_error_to_not_implemented.<locals>.wrapped\u001b[0;34m(*args, **kwargs)\u001b[0m\n\u001b[1;32m     <a href='file:///home/shengduo/anaconda3/lib/python3.9/site-packages/torch/_tensor.py?line=29'>30</a>\u001b[0m     \u001b[39mif\u001b[39;00m has_torch_function(args):\n\u001b[1;32m     <a href='file:///home/shengduo/anaconda3/lib/python3.9/site-packages/torch/_tensor.py?line=30'>31</a>\u001b[0m         \u001b[39mreturn\u001b[39;00m handle_torch_function(wrapped, args, \u001b[39m*\u001b[39margs, \u001b[39m*\u001b[39m\u001b[39m*\u001b[39mkwargs)\n\u001b[0;32m---> <a href='file:///home/shengduo/anaconda3/lib/python3.9/site-packages/torch/_tensor.py?line=31'>32</a>\u001b[0m     \u001b[39mreturn\u001b[39;00m f(\u001b[39m*\u001b[39;49margs, \u001b[39m*\u001b[39;49m\u001b[39m*\u001b[39;49mkwargs)\n\u001b[1;32m     <a href='file:///home/shengduo/anaconda3/lib/python3.9/site-packages/torch/_tensor.py?line=32'>33</a>\u001b[0m \u001b[39mexcept\u001b[39;00m \u001b[39mTypeError\u001b[39;00m:\n\u001b[1;32m     <a href='file:///home/shengduo/anaconda3/lib/python3.9/site-packages/torch/_tensor.py?line=33'>34</a>\u001b[0m     \u001b[39mreturn\u001b[39;00m \u001b[39mNotImplemented\u001b[39m\n",
      "File \u001b[0;32m~/anaconda3/lib/python3.9/site-packages/torch/_tensor.py:639\u001b[0m, in \u001b[0;36mTensor.__rsub__\u001b[0;34m(self, other)\u001b[0m\n\u001b[1;32m    <a href='file:///home/shengduo/anaconda3/lib/python3.9/site-packages/torch/_tensor.py?line=636'>637</a>\u001b[0m \u001b[39m@_handle_torch_function_and_wrap_type_error_to_not_implemented\u001b[39m\n\u001b[1;32m    <a href='file:///home/shengduo/anaconda3/lib/python3.9/site-packages/torch/_tensor.py?line=637'>638</a>\u001b[0m \u001b[39mdef\u001b[39;00m \u001b[39m__rsub__\u001b[39m(\u001b[39mself\u001b[39m, other):\n\u001b[0;32m--> <a href='file:///home/shengduo/anaconda3/lib/python3.9/site-packages/torch/_tensor.py?line=638'>639</a>\u001b[0m     \u001b[39mreturn\u001b[39;00m _C\u001b[39m.\u001b[39;49m_VariableFunctions\u001b[39m.\u001b[39;49mrsub(\u001b[39mself\u001b[39;49m, other)\n",
      "\u001b[0;31mKeyboardInterrupt\u001b[0m: "
     ]
    }
   ],
   "source": [
    "## Number of total alpha-beta iterations\n",
    "N_AllIters = 1\n",
    "this_alpha = alpha0\n",
    "this_beta = beta0\n",
    "\n",
    "## Run alpha-beta iterations\n",
    "for i in range(N_AllIters):\n",
    "    # Print out info\n",
    "    print(\"#\" * 40, \" Total Iteration {0} \".format(i) + \"#\" * 40)\n",
    "    \n",
    "    ## First optimize alpha\n",
    "    kwgs['alpha0'] = this_alpha\n",
    "    kwgs['beta_this'] = this_beta\n",
    "    \n",
    "    # Timing alpha\n",
    "    # Update this Alpha\n",
    "    # this_alpha = optAlpha(O_GAN, kwgs)\n",
    "    \n",
    "    \n",
    "    ## Run grad descent on beta\n",
    "    # Generate target v\n",
    "    v, t = generate_target_v(this_alpha, kwgs['VT'], kwgs['beta_targ'], kwgs['y0'], kwgs['regularizedFlag'])\n",
    "    \n",
    "    # Run gradient descent\n",
    "    myGradBB = GradDescent(this_alpha, kwgs['alp_low'], kwgs['alp_high'], kwgs['VT'], \n",
    "                           this_beta, kwgs['beta_low'], kwgs['beta_high'], \n",
    "                           kwgs['y0'], v, t, \n",
    "                           objGrad_func = objGradFunc, scaling = scaling, \n",
    "                           max_steps = 10, stepping = 'BB', obs_rtol = 1e-5, lsrh_steps = 10)\n",
    "    \n",
    "    myGradBB.run()\n",
    "    \n",
    "    # Update parameters\n",
    "    this_beta = myGradBB.beta_optimal\n",
    "    print(\"Optimal beta: \", this_beta)"
   ]
  },
  {
   "cell_type": "code",
   "execution_count": null,
   "metadata": {},
   "outputs": [],
   "source": []
  }
 ],
 "metadata": {
  "interpreter": {
   "hash": "908f1ff8de8ebdc69e26ff027962402cbc597b1f299fe84c63d7830c8ca59587"
  },
  "kernelspec": {
   "display_name": "Python 3.9.12 ('base')",
   "language": "python",
   "name": "python3"
  },
  "language_info": {
   "codemirror_mode": {
    "name": "ipython",
    "version": 3
   },
   "file_extension": ".py",
   "mimetype": "text/x-python",
   "name": "python",
   "nbconvert_exporter": "python",
   "pygments_lexer": "ipython3",
   "version": "3.9.12"
  },
  "orig_nbformat": 4
 },
 "nbformat": 4,
 "nbformat_minor": 2
}

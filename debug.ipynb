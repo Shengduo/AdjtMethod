{
 "cells": [
  {
   "cell_type": "code",
   "execution_count": 1,
   "metadata": {},
   "outputs": [
    {
     "name": "stderr",
     "output_type": "stream",
     "text": [
      "/home/shengduo/anaconda3/lib/python3.9/site-packages/scipy/__init__.py:146: UserWarning: A NumPy version >=1.16.5 and <1.23.0 is required for this version of SciPy (detected version 1.24.1\n",
      "  warnings.warn(f\"A NumPy version >={np_minversion} and <{np_maxversion}\"\n"
     ]
    }
   ],
   "source": [
    "\"\"\"\n",
    "Use class GenerateVT to generate imposed sliprate-time history\n",
    "\"\"\"\n",
    "## Import standard librarys\n",
    "import torch\n",
    "import torchdiffeq\n",
    "import pickle\n",
    "import time\n",
    "import torch.nn as nn\n",
    "import scipy.optimize as opt\n",
    "import numpy as np\n",
    "\n",
    "from torchdiffeq import odeint\n",
    "from xitorch.interpolate import Interp1D\n",
    "from scipy.interpolate import interp1d\n",
    "from matplotlib import pyplot as plt\n",
    "\n",
    "\n",
    "# Import local classes and functions\n",
    "from MassFricParams import MassFricParams\n",
    "from TimeSequenceGen import TimeSequenceGen\n",
    "from AdjointMethod import AdjDerivs\n",
    "from GradientDescent import GradDescent, objGradFunc\n",
    "from plotSequences import plot_differences\n",
    "from GenerateVT import GenerateVT\n",
    "\n",
    "torch.set_default_dtype(torch.float)"
   ]
  },
  {
   "cell_type": "code",
   "execution_count": 2,
   "metadata": {},
   "outputs": [],
   "source": [
    "# Gradient descent on fixed $\\alpha = [k, m, g]$ and $V$ \n",
    "# Set up the parameters\n",
    "plotsName = \"SimpleGen\"\n",
    "alpha0 = torch.tensor([50., 1., 9.8])\n",
    "# VT = torch.tensor([[1., 1.], [0., 5.]])\n",
    "\n",
    "# Generate VT series\n",
    "VT_Vrange = torch.tensor([5., 15.])\n",
    "VT_Trange = torch.tensor([0., 5.])\n",
    "VT_NofTpts = 1000\n",
    "VT_flag = \"simple\"\n",
    "VT_nOfTerms = 10\n",
    "VT_nOfFourierTerms = 10\n",
    "plt_save_path = \"./plots/VT_\" + plotsName + \".png\"\n",
    "\n",
    "# For prescribed VT\n",
    "VT_tts = torch.linspace(VT_Trange[0], VT_Trange[1], VT_nOfTerms)\n",
    "VT_VVs = torch.rand(VT_nOfTerms) * (VT_Vrange[1] - VT_Vrange[0]) + VT_Vrange[0]\n",
    "\n",
    "# Initialize VT_kwgs\n",
    "VT_kwgs = {\n",
    "    \"nOfTerms\" : VT_nOfTerms, \n",
    "    \"nOfFourierTerms\" : VT_nOfFourierTerms,\n",
    "    \"Trange\" : VT_Trange, \n",
    "    \"Vrange\" : VT_Vrange, \n",
    "    \"flag\" : VT_flag, \n",
    "    \"NofTpts\" : VT_NofTpts, \n",
    "    \"VV\" : VT_VVs, \n",
    "    \"tt\" : VT_tts, \n",
    "    \"plt_save_path\" : plt_save_path, \n",
    "}"
   ]
  },
  {
   "cell_type": "code",
   "execution_count": 3,
   "metadata": {},
   "outputs": [
    {
     "data": {
      "image/png": "[encoded data removed]",
      "text/plain": [
       "<Figure size 720x1080 with 1 Axes>"
      ]
     },
     "metadata": {
      "needs_background": "light"
     },
     "output_type": "display_data"
    }
   ],
   "source": [
    "# Get the series\n",
    "VT_instance = GenerateVT(VT_kwgs)\n",
    "VT = VT_instance.VT\n",
    "\n",
    "# Plot VT (optional)\n",
    "VT_instance.plotVT()"
   ]
  },
  {
   "cell_type": "code",
   "execution_count": 4,
   "metadata": {},
   "outputs": [
    {
     "data": {
      "text/plain": [
       "tensor([[5.0259e+00, 5.0259e+00, 5.0259e+00,  ..., 1.2607e+01, 1.2607e+01,\n",
       "         1.3852e+01],\n",
       "        [0.0000e+00, 5.0050e-03, 1.0010e-02,  ..., 4.9900e+00, 4.9950e+00,\n",
       "         5.0000e+00]])"
      ]
     },
     "execution_count": 4,
     "metadata": {},
     "output_type": "execute_result"
    }
   ],
   "source": [
    "VT"
   ]
  },
  {
   "cell_type": "code",
   "execution_count": 6,
   "metadata": {},
   "outputs": [
    {
     "data": {
      "text/plain": [
       "tensor(0.)"
      ]
     },
     "execution_count": 6,
     "metadata": {},
     "output_type": "execute_result"
    }
   ],
   "source": [
    "VT_Trange[0]"
   ]
  },
  {
   "cell_type": "code",
   "execution_count": 9,
   "metadata": {},
   "outputs": [
    {
     "data": {
      "text/plain": [
       "tensor([0.0071, 0.1183, 0.2030, 0.3132, 0.3360, 0.3382, 0.3935, 0.5124, 0.5884,\n",
       "        0.7318])"
      ]
     },
     "execution_count": 9,
     "metadata": {},
     "output_type": "execute_result"
    }
   ],
   "source": [
    "torch.sort(torch.rand(VT_kwgs['nOfTerms'])).values"
   ]
  },
  {
   "cell_type": "code",
   "execution_count": null,
   "metadata": {},
   "outputs": [],
   "source": []
  }
 ],
 "metadata": {
  "interpreter": {
   "hash": "908f1ff8de8ebdc69e26ff027962402cbc597b1f299fe84c63d7830c8ca59587"
  },
  "kernelspec": {
   "display_name": "Python 3.9.12 ('base')",
   "language": "python",
   "name": "python3"
  },
  "language_info": {
   "codemirror_mode": {
    "name": "ipython",
    "version": 3
   },
   "file_extension": ".py",
   "mimetype": "text/x-python",
   "name": "python",
   "nbconvert_exporter": "python",
   "pygments_lexer": "ipython3",
   "version": "3.9.12"
  },
  "orig_nbformat": 4
 },
 "nbformat": 4,
 "nbformat_minor": 2
}
